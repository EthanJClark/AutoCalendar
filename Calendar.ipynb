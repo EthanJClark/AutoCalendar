{
 "cells": [
  {
   "cell_type": "code",
   "execution_count": 1,
   "id": "375b468a",
   "metadata": {},
   "outputs": [],
   "source": [
    "import datetime\n",
    "import os.path\n"
   ]
  },
  {
   "cell_type": "code",
   "execution_count": 2,
   "id": "f403aa14",
   "metadata": {},
   "outputs": [],
   "source": [
    "from google.auth.transport.requests import Request\n",
    "from google.oauth2.credentials import Credentials\n",
    "from google_auth_oauthlib.flow import InstalledAppFlow\n",
    "from googleapiclient.discovery import build\n",
    "from googleapiclient.errors import HttpError"
   ]
  },
  {
   "cell_type": "code",
   "execution_count": 3,
   "id": "106d098b",
   "metadata": {},
   "outputs": [],
   "source": [
    "CREDENTIALS_FILE = \"client-secret.json\"\n",
    "TOKEN_FILE = \"token.json\"\n",
    "SCOPES = [\"https://www.googleapis.com/auth/calendar\"]"
   ]
  },
  {
   "cell_type": "code",
   "execution_count": 4,
   "id": "5db40848",
   "metadata": {},
   "outputs": [],
   "source": [
    "def create_event(service, summary, start_time, end_time, description= \"\", location= \"\"):\n",
    "    event = {\n",
    "        \"summary\": summary,\n",
    "        \"location\": location,\n",
    "        \"description\": description,\n",
    "        \"start\": {\n",
    "            \"dateTime\": start_time.isoformat(),\n",
    "            \"timeZone\": \"America/Los_Angeles\",\n",
    "        },\n",
    "        \"end\": {\n",
    "            \"dateTime\": end_time.isoformat(),\n",
    "            \"timeZone\": \"America/Los_Angeles\",\n",
    "        },\n",
    "        \"reminders\":{\n",
    "            \"useDefault\": False,\n",
    "            \"overrides\": [\n",
    "                {\n",
    "                    \"method\": \"email\",\n",
    "                    \"minutes\": 10\n",
    "                },\n",
    "                {\n",
    "                    \"method\": \"popup\",\n",
    "                    \"minutes\": 10\n",
    "                }\n",
    "            ]\n",
    "        }\n",
    "    }\n",
    "\n",
    "    try:\n",
    "        event = service.events().insert(calendarId=\"primary\", body=event).execute()\n",
    "        print(f\"Event created: {event.get('htmlLink')}\")\n",
    "        return event\n",
    "    except HttpError as error:\n",
    "        print(f\"An error occurred: {error}\")\n",
    "        return None"
   ]
  },
  {
   "cell_type": "code",
   "execution_count": 1,
   "id": "ef38261b",
   "metadata": {},
   "outputs": [],
   "source": [
    "def get_time():\n",
    "    return datetime.datetime.now(datetime.timezone.utc).isoformat()"
   ]
  },
  {
   "cell_type": "code",
   "execution_count": 5,
   "id": "ae3c43bb",
   "metadata": {},
   "outputs": [],
   "source": [
    "def get_events(service):\n",
    "    now = datetime.datetime.now(datetime.timezone.utc).isoformat()\n",
    "    print(\"getting events\")\n",
    "    events_result = (\n",
    "        service.events()\n",
    "        .list(\n",
    "            calendarId='primary',\n",
    "            timeMin=now,\n",
    "            maxResults=10,\n",
    "            singleEvents=True,\n",
    "            orderBy='startTime'\n",
    "        )\n",
    "        .execute()\n",
    "    )\n",
    "    events = events_result.get('items', [])\n",
    "\n",
    "    if not events:\n",
    "        print(\"no events found.\")\n",
    "    else:\n",
    "        print(\"Upcoming events:\")\n",
    "        for event in events:\n",
    "            start = event[\"start\"].get(\"dateTime\")\n",
    "            if start is None:\n",
    "                start = event[\"start\"].get(\"date\")\n",
    "                \n",
    "            print(f\"  {start} - {event[\"summary\"]}\")\n",
    "\n"
   ]
  },
  {
   "cell_type": "code",
   "execution_count": 6,
   "id": "fde0d83d",
   "metadata": {},
   "outputs": [],
   "source": [
    "def test_event(service):\n",
    "    now = datetime.datetime.now(datetime.timezone.utc)\n",
    "    print(now)\n",
    "    start_time = now + datetime.timedelta(days=1)\n",
    "    end_time = start_time + datetime.timedelta(hours=1)\n",
    "\n",
    "    return create_event(\n",
    "        service,\n",
    "        summary=\"Test Event\",\n",
    "        start_time=start_time,\n",
    "        end_time=end_time,\n",
    "        description=\"This is a test event\",\n",
    "        location=\"Virtual\"\n",
    "    )"
   ]
  },
  {
   "cell_type": "code",
   "execution_count": 7,
   "id": "bf7bc336",
   "metadata": {},
   "outputs": [],
   "source": [
    "def create_calendar_client():\n",
    "    \n",
    "    creds = None\n",
    "\n",
    "    if os.path.exists(TOKEN_FILE):\n",
    "        creds = Credentials.from_authorized_user_file(TOKEN_FILE, SCOPES)\n",
    "\n",
    "    if not creds or not creds.valid:\n",
    "        if creds and creds.expired and creds.refresh_token:\n",
    "            creds.refresh(Request())\n",
    "        else:\n",
    "            flow = InstalledAppFlow.from_client_secrets_file(\n",
    "                CREDENTIALS_FILE, SCOPES)\n",
    "            creds = flow.run_local_server(port=0)\n",
    "\n",
    "        with open(TOKEN_FILE, 'w') as token:\n",
    "            token.write(creds.to_json())\n",
    "    \n",
    "\n",
    "    try:\n",
    "        service = build(\"calendar\", \"v3\", credentials = creds)\n",
    "        return service\n",
    "\n",
    "    except HttpError as error:\n",
    "        print(f\"An error occurred: {error}\")"
   ]
  },
  {
   "cell_type": "code",
   "execution_count": 8,
   "id": "9ec369ab",
   "metadata": {},
   "outputs": [
    {
     "name": "stdout",
     "output_type": "stream",
     "text": [
      "2025-08-08 04:09:35.577995+00:00\n",
      "Event created: https://www.google.com/calendar/event?eid=YmV0cGQwYmYzOTIyN2pxZ2xwOTBzYW5maG8gc3llc3NzMTMyQG0\n"
     ]
    },
    {
     "data": {
      "text/plain": [
       "{'kind': 'calendar#event',\n",
       " 'etag': '\"3509252360828510\"',\n",
       " 'id': 'betpd0bf39227jqglp90sanfho',\n",
       " 'status': 'confirmed',\n",
       " 'htmlLink': 'https://www.google.com/calendar/event?eid=YmV0cGQwYmYzOTIyN2pxZ2xwOTBzYW5maG8gc3llc3NzMTMyQG0',\n",
       " 'created': '2025-08-08T04:09:40.000Z',\n",
       " 'updated': '2025-08-08T04:09:40.414Z',\n",
       " 'summary': 'Test Event',\n",
       " 'description': 'This is a test event',\n",
       " 'location': 'Virtual',\n",
       " 'creator': {'email': 'syesss132@gmail.com', 'self': True},\n",
       " 'organizer': {'email': 'syesss132@gmail.com', 'self': True},\n",
       " 'start': {'dateTime': '2025-08-08T21:09:35-07:00',\n",
       "  'timeZone': 'America/Los_Angeles'},\n",
       " 'end': {'dateTime': '2025-08-08T22:09:35-07:00',\n",
       "  'timeZone': 'America/Los_Angeles'},\n",
       " 'iCalUID': 'betpd0bf39227jqglp90sanfho@google.com',\n",
       " 'sequence': 0,\n",
       " 'reminders': {'useDefault': False,\n",
       "  'overrides': [{'method': 'email', 'minutes': 10},\n",
       "   {'method': 'popup', 'minutes': 10}]},\n",
       " 'eventType': 'default'}"
      ]
     },
     "execution_count": 8,
     "metadata": {},
     "output_type": "execute_result"
    }
   ],
   "source": [
    "calendar_client = create_calendar_client()\n",
    "\n",
    "test_event(calendar_client)\n",
    "\n"
   ]
  },
  {
   "cell_type": "code",
   "execution_count": 9,
   "id": "de2d887a",
   "metadata": {},
   "outputs": [
    {
     "name": "stdout",
     "output_type": "stream",
     "text": [
      "getting events\n",
      "Upcoming events:\n",
      "  2025-08-08T21:09:35-07:00 - Test Event\n"
     ]
    }
   ],
   "source": [
    "get_events(calendar_client)"
   ]
  }
 ],
 "metadata": {
  "kernelspec": {
   "display_name": ".venv",
   "language": "python",
   "name": "python3"
  },
  "language_info": {
   "codemirror_mode": {
    "name": "ipython",
    "version": 3
   },
   "file_extension": ".py",
   "mimetype": "text/x-python",
   "name": "python",
   "nbconvert_exporter": "python",
   "pygments_lexer": "ipython3",
   "version": "3.13.6"
  }
 },
 "nbformat": 4,
 "nbformat_minor": 5
}
