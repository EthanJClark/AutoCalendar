{
 "cells": [
  {
   "cell_type": "code",
   "execution_count": 32,
   "id": "10907537",
   "metadata": {},
   "outputs": [
    {
     "data": {
      "text/plain": [
       "True"
      ]
     },
     "execution_count": 32,
     "metadata": {},
     "output_type": "execute_result"
    }
   ],
   "source": [
    "import dspy\n",
    "import openai\n",
    "import os\n",
    "from dotenv import load_dotenv\n",
    "import datetime\n",
    "load_dotenv()\n"
   ]
  },
  {
   "cell_type": "code",
   "execution_count": 33,
   "id": "34ae8e2d",
   "metadata": {},
   "outputs": [],
   "source": [
    "import GoogleCalendar as gc"
   ]
  },
  {
   "cell_type": "code",
   "execution_count": 34,
   "id": "4954544d",
   "metadata": {},
   "outputs": [],
   "source": [
    "openai_api_key = os.getenv(\"OPENAI_API_KEY\")\n",
    "lm = dspy.LM(api_key = openai_api_key, model = \"gpt-3.5-turbo\")\n",
    "dspy.settings.configure(lm=lm)"
   ]
  },
  {
   "cell_type": "code",
   "execution_count": null,
   "id": "d75f96e1",
   "metadata": {},
   "outputs": [],
   "source": [
    "class CalendarAgent(dspy.Signature):\n",
    "    \"\"\"\n",
    "    make calendar events \n",
    "    1. assume all events are in UTC\n",
    "    2. do not add characters to event dates, e.g. \"Z\" for UTC\n",
    "    \"\"\"\n",
    "    event_details = dspy.InputField(desc=\"the details of the calendar event\")\n",
    "    current_time = dspy.InputField(desc=\"the current time\")\n",
    "\n",
    "    event_summary  = dspy.OutputField(desc=\"the summary of the event\")\n",
    "    event_start = dspy.OutputField(desc=\"the start time of the event in iso format. utc\")\n",
    "    event_end = dspy.OutputField(desc=\"the end time of the event in iso format. utc\")\n",
    "    event_location = dspy.OutputField(desc=\"the location of the event\")\n",
    "    event_description = dspy.OutputField(desc=\"the description of the event\")"
   ]
  },
  {
   "cell_type": "code",
   "execution_count": 36,
   "id": "ce52ad4c",
   "metadata": {},
   "outputs": [],
   "source": [
    "class GetEvents(dspy.Signature):\n",
    "    \"\"\"\n",
    "    from the given details make a list of events\n",
    "    \"\"\"\n",
    "\n",
    "    details = dspy.InputField(desc=\"the details of the events\")\n",
    "    events: list[str] = dspy.OutputField(desc=\"the list of events\")"
   ]
  },
  {
   "cell_type": "code",
   "execution_count": 37,
   "id": "9f782728",
   "metadata": {},
   "outputs": [],
   "source": [
    "class Assistant(dspy.Signature):\n",
    "    \"\"\"an assistant that can help with tasks. determine the best course of action. do not assume dates\"\"\"\n",
    "    prompt = dspy.InputField(desc=\"given instructions to follow\")\n",
    "    output = dspy.OutputField(desc=\"the response to instructions\")"
   ]
  },
  {
   "cell_type": "code",
   "execution_count": 38,
   "id": "f3de86f4",
   "metadata": {},
   "outputs": [],
   "source": [
    "def get_upcoming_events():\n",
    "    \"\"\"\n",
    "    Get a list of upcoming events from the calendar.\n",
    "    \"\"\"\n",
    "    client = gc.create_calendar_client()\n",
    "    events = gc.get_events(client)\n",
    "    return events"
   ]
  },
  {
   "cell_type": "code",
   "execution_count": 39,
   "id": "fa583520",
   "metadata": {},
   "outputs": [],
   "source": [
    "def create_calendar_event(users_input):\n",
    "    \"\"\"\n",
    "    1. pass the users input to the agent.\n",
    "    2. do not add characters to event dates, e.g. \"Z\" for UTC\n",
    "    3. assume all events are upcoming.\n",
    "    \"\"\"\n",
    "    calendar_agent = dspy.ReAct(\n",
    "        signature=CalendarAgent,\n",
    "        tools=[]\n",
    "    )\n",
    "\n",
    "    event_agent = dspy.Predict(signature = GetEvents)\n",
    "    event_result = event_agent(details=users_input)\n",
    "    \n",
    "\n",
    "    client = gc.create_calendar_client()\n",
    "    current_time = gc.get_current_time()\n",
    "\n",
    "    print(f\"Event list: {event_result.events}\")\n",
    "    print(f\"Current time: {current_time}\")\n",
    "\n",
    "    for event in event_result.events:\n",
    "        agent_response = calendar_agent(event_details= event, current_time=current_time)\n",
    "\n",
    "        print(f\"\\n\\nAgent response: \\n{agent_response}\")\n",
    "\n",
    "        iso_start_time = datetime.datetime.fromisoformat(agent_response.event_start)\n",
    "        iso_end_time = datetime.datetime.fromisoformat(agent_response.event_end)\n",
    "        print(f\"\\nISO Start Time: {iso_start_time}\")\n",
    "\n",
    "\n",
    "        event = gc.create_event(\n",
    "            service=client,\n",
    "            summary=agent_response.event_summary,\n",
    "            start_time=iso_start_time,\n",
    "            end_time=iso_end_time,\n",
    "            location=agent_response.event_location,\n",
    "            description=agent_response.event_description\n",
    "        )"
   ]
  },
  {
   "cell_type": "code",
   "execution_count": 40,
   "id": "3a8d5a91",
   "metadata": {},
   "outputs": [],
   "source": [
    "react = dspy.ReAct(\n",
    "    signature=Assistant,\n",
    "    tools=[create_calendar_event, gc.get_current_time, get_upcoming_events]\n",
    ")"
   ]
  },
  {
   "cell_type": "markdown",
   "id": "cbe73109",
   "metadata": {},
   "source": [
    "\n",
    "\n",
    "\n",
    "\n",
    "\n",
    "\n",
    "\n",
    "\n",
    "\n",
    "\n",
    "\n",
    "\n",
    "\n",
    "\n",
    "\n"
   ]
  },
  {
   "cell_type": "code",
   "execution_count": 44,
   "id": "c567cc2c",
   "metadata": {},
   "outputs": [
    {
     "name": "stdout",
     "output_type": "stream",
     "text": [
      "\n",
      "Paris\n"
     ]
    }
   ],
   "source": [
    "response = react(prompt=\"what is the capitol of france?\")\n",
    "print(f\"\\n{response.output}\")"
   ]
  },
  {
   "cell_type": "code",
   "execution_count": null,
   "id": "a529943d",
   "metadata": {},
   "outputs": [],
   "source": []
  }
 ],
 "metadata": {
  "kernelspec": {
   "display_name": ".venv",
   "language": "python",
   "name": "python3"
  },
  "language_info": {
   "codemirror_mode": {
    "name": "ipython",
    "version": 3
   },
   "file_extension": ".py",
   "mimetype": "text/x-python",
   "name": "python",
   "nbconvert_exporter": "python",
   "pygments_lexer": "ipython3",
   "version": "3.13.6"
  }
 },
 "nbformat": 4,
 "nbformat_minor": 5
}
